{
  "nbformat": 4,
  "nbformat_minor": 0,
  "metadata": {
    "colab": {
      "provenance": [],
      "authorship_tag": "ABX9TyMYtUbDfqoYJVcyXot7Jeoe",
      "include_colab_link": true
    },
    "kernelspec": {
      "name": "python3",
      "display_name": "Python 3"
    },
    "language_info": {
      "name": "python"
    }
  },
  "cells": [
    {
      "cell_type": "markdown",
      "metadata": {
        "id": "view-in-github",
        "colab_type": "text"
      },
      "source": [
        "<a href=\"https://colab.research.google.com/github/Ayush-Jaggi/AI-Projects-Internship/blob/main/Movie_Recommendation_System.ipynb\" target=\"_parent\"><img src=\"https://colab.research.google.com/assets/colab-badge.svg\" alt=\"Open In Colab\"/></a>"
      ]
    },
    {
      "cell_type": "code",
      "execution_count": 4,
      "metadata": {
        "colab": {
          "base_uri": "https://localhost:8080/"
        },
        "id": "pFbE0Q-sR0ay",
        "outputId": "0218cff0-9b38-4984-e742-faa0b44e3226"
      },
      "outputs": [
        {
          "output_type": "stream",
          "name": "stdout",
          "text": [
            "Ratings Dataset:\n",
            "  User         Movie  Rating\n",
            "0    A     Inception       5\n",
            "1    A  Interstellar       4\n",
            "2    A       Dunkirk       4\n",
            "3    B     Inception       5\n",
            "4    B       Dunkirk       2\n",
            "5    C     Inception       4\n",
            "6    C  Interstellar       5\n",
            "7    C       Dunkirk       4\n",
            "8    C         Tenet       5\n",
            "\n",
            "User-Movie Matrix:\n",
            "Movie  Dunkirk  Inception  Interstellar  Tenet\n",
            "User                                          \n",
            "A          4.0        5.0           4.0    0.0\n",
            "B          2.0        5.0           0.0    0.0\n",
            "C          4.0        4.0           5.0    5.0\n",
            "\n",
            "User Similarity Matrix:\n",
            "User         A         B         C\n",
            "User                              \n",
            "A     1.000000  0.811666  0.819113\n",
            "B     0.811666  1.000000  0.574185\n",
            "C     0.819113  0.574185  1.000000\n",
            "\n",
            "Recommendations for User C:\n",
            "Empty DataFrame\n",
            "Columns: [Movie, Rating]\n",
            "Index: []\n"
          ]
        }
      ],
      "source": [
        "import pandas as pd\n",
        "from sklearn.metrics.pairwise import cosine_similarity\n",
        "\n",
        "# 📥 Step 1: Sample Ratings Dataset\n",
        "data = {\n",
        "    'User': ['A', 'A', 'A', 'B', 'B', 'C', 'C', 'C', 'C'],\n",
        "    'Movie': ['Inception', 'Interstellar', 'Dunkirk', 'Inception', 'Dunkirk', 'Inception', 'Interstellar', 'Dunkirk', 'Tenet'],\n",
        "    'Rating': [5, 4, 4, 5, 2, 4, 5, 4, 5]\n",
        "}\n",
        "\n",
        "df = pd.DataFrame(data)\n",
        "print(\"Ratings Dataset:\")\n",
        "print(df)\n",
        "\n",
        "# 🧱 Step 2: Create User-Movie Matrix\n",
        "user_movie_matrix = df.pivot_table(index='User', columns='Movie', values='Rating').fillna(0)\n",
        "print(\"\\nUser-Movie Matrix:\")\n",
        "print(user_movie_matrix)\n",
        "\n",
        "# 🧠 Step 3: Calculate Similarity\n",
        "similarity = cosine_similarity(user_movie_matrix)\n",
        "similarity_df = pd.DataFrame(similarity, index=user_movie_matrix.index, columns=user_movie_matrix.index)\n",
        "print(\"\\nUser Similarity Matrix:\")\n",
        "print(similarity_df)\n",
        "\n",
        "# 🎯 Step 4: Recommend Movies for a User\n",
        "def recommend_movies(user):\n",
        "    similar_users = similarity_df[user].drop(user).sort_values(ascending=False)\n",
        "    top_user = similar_users.index[0]\n",
        "\n",
        "    user_movies = set(df[df['User'] == user]['Movie'])\n",
        "    top_user_movies = df[df['User'] == top_user]\n",
        "\n",
        "    recommendations = top_user_movies[~top_user_movies['Movie'].isin(user_movies)]\n",
        "    return recommendations[['Movie', 'Rating']].drop_duplicates().sort_values(by='Rating', ascending=False)\n",
        "\n",
        "# ✅ Example: Recommend for User C\n",
        "print(\"\\nRecommendations for User C:\")\n",
        "print(recommend_movies('C'))\n"
      ]
    }
  ]
}